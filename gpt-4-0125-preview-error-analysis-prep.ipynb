{
 "cells": [
  {
   "cell_type": "code",
   "execution_count": 1,
   "metadata": {},
   "outputs": [],
   "source": [
    "import json, pandas as pd"
   ]
  },
  {
   "cell_type": "code",
   "execution_count": 3,
   "metadata": {},
   "outputs": [],
   "source": [
    "wd_results = json.load(open(\"experiments/gpt-4-0125-preview-wikidata.json\", \"r\"))\n",
    "cg_results = json.load(open(\"experiments/gpt-4-0125-preview-caligraph.json\", \"r\"))"
   ]
  },
  {
   "cell_type": "code",
   "execution_count": 4,
   "metadata": {},
   "outputs": [],
   "source": [
    "wd_df = pd.DataFrame.from_records(sum(wd_results, []))\n",
    "cg_df = pd.DataFrame.from_records(sum(cg_results, []))"
   ]
  },
  {
   "cell_type": "code",
   "execution_count": 15,
   "metadata": {},
   "outputs": [],
   "source": [
    "wd_err_df = wd_df[((wd_df[\"actual\"] == 'negative') & (wd_df[\"predicted\"] == 'positive')) | ((wd_df[\"actual\"] == 'positive') & (wd_df[\"predicted\"] == 'negative')) ]\n",
    "cg_err_df = cg_df[((cg_df[\"actual\"] == 'positive') & (cg_df[\"predicted\"] == 'negative')) | ((cg_df[\"actual\"] == 'negative') & (cg_df[\"predicted\"] == 'positive')) ]"
   ]
  },
  {
   "cell_type": "code",
   "execution_count": 23,
   "metadata": {},
   "outputs": [],
   "source": [
    "wd_err_df[[\"concept\", \"entity\", \"actual\", \"predicted\"]].to_csv('error-analysis/wd_err.csv', index=False)\n",
    "cg_err_df[[\"concept\", \"entity\", \"actual\", \"predicted\"]].to_csv('error-analysis/cg_err.csv', index=False)"
   ]
  }
 ],
 "metadata": {
  "kernelspec": {
   "display_name": "env",
   "language": "python",
   "name": "python3"
  },
  "language_info": {
   "codemirror_mode": {
    "name": "ipython",
    "version": 3
   },
   "file_extension": ".py",
   "mimetype": "text/x-python",
   "name": "python",
   "nbconvert_exporter": "python",
   "pygments_lexer": "ipython3",
   "version": "3.11.4"
  }
 },
 "nbformat": 4,
 "nbformat_minor": 2
}
