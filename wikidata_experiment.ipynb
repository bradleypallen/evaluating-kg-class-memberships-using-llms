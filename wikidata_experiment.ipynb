{
 "cells": [
  {
   "cell_type": "code",
   "execution_count": 1,
   "metadata": {},
   "outputs": [],
   "source": [
    "import json\n",
    "from utils import evaluate_model"
   ]
  },
  {
   "cell_type": "code",
   "execution_count": 2,
   "metadata": {},
   "outputs": [],
   "source": [
    "MODELS = [ \n",
    "    \"google/gemma-2b-it\",\n",
    "    \"google/gemma-7b-it\",\n",
    "    \"gpt-3.5-turbo\", \n",
    "    \"gpt-4-0125-preview\", \n",
    "    \"mistralai/Mistral-7B-Instruct-v0.2\",\n",
    "    \"mistralai/Mixtral-8x7B-Instruct-v0.1\",\n",
    "    \"meta-llama/Llama-2-70b-chat-hf\", \n",
    "]\n",
    "\n",
    "DATASETS = json.load(open('wikidata_classes.json', 'r'))"
   ]
  },
  {
   "cell_type": "code",
   "execution_count": 4,
   "metadata": {},
   "outputs": [],
   "source": [
    "for model in MODELS:\n",
    "    print(f'Evaluating {model}')\n",
    "    filename = f'{model.split(\"/\")[-1]}-wikidata.json'\n",
    "    classifications = evaluate_model(model, DATASETS, filename)"
   ]
  }
 ],
 "metadata": {
  "kernelspec": {
   "display_name": "conceptual-engineering-using-llms",
   "language": "python",
   "name": "python3"
  },
  "language_info": {
   "codemirror_mode": {
    "name": "ipython",
    "version": 3
   },
   "file_extension": ".py",
   "mimetype": "text/x-python",
   "name": "python",
   "nbconvert_exporter": "python",
   "pygments_lexer": "ipython3",
   "version": "3.11.4"
  },
  "orig_nbformat": 4
 },
 "nbformat": 4,
 "nbformat_minor": 2
}
