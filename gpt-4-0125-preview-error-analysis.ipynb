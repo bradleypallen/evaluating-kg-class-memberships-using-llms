{
 "cells": [
  {
   "cell_type": "code",
   "execution_count": 1,
   "metadata": {},
   "outputs": [],
   "source": [
    "import json, pycm, pandas as pd\n",
    "import ipywidgets as widgets\n",
    "from functools import partial\n",
    "from IPython.display import display, clear_output"
   ]
  },
  {
   "cell_type": "code",
   "execution_count": 2,
   "metadata": {},
   "outputs": [],
   "source": [
    "def get_classification(callback, **kwargs):\n",
    "    button_yes = widgets.Button(description=\"positive\")\n",
    "    button_no = widgets.Button(description=\"negative\")\n",
    "    output = widgets.Output()\n",
    "    question_label = widgets.Label(f'Is {err[\"entity\"]} a(n) {err[\"concept\"]}?')\n",
    "    \n",
    "    def on_button_clicked(is_yes, b):\n",
    "        with output:\n",
    "            clear_output()\n",
    "            print(\"Your answer was:\", \"positive\" if is_yes else \"negative\")\n",
    "        callback(\"positive\" if is_yes else \"negative\", **kwargs)\n",
    "    \n",
    "    button_yes.on_click(partial(on_button_clicked, True))\n",
    "    button_no.on_click(partial(on_button_clicked, False))\n",
    "    display(question_label, button_yes, button_no, output)\n",
    "\n",
    "def handle_response(response, err=None):\n",
    "    err[\"human\"] = response"
   ]
  },
  {
   "cell_type": "code",
   "execution_count": 3,
   "metadata": {},
   "outputs": [],
   "source": [
    "wd_results = json.load(open(\"gpt-4-0125-preview-wikidata.json\", \"r\"))\n",
    "cg_results = json.load(open(\"gpt-4-0125-preview-caligraph.json\", \"r\"))"
   ]
  },
  {
   "cell_type": "code",
   "execution_count": 4,
   "metadata": {},
   "outputs": [],
   "source": [
    "wd_df = pd.DataFrame.from_records(sum(wd_results, []))\n",
    "cg_df = pd.DataFrame.from_records(sum(cg_results, []))"
   ]
  },
  {
   "cell_type": "code",
   "execution_count": 32,
   "metadata": {},
   "outputs": [],
   "source": [
    "wd_fp_df = wd_df[((wd_df[\"actual\"] == 'negative') & (wd_df[\"predicted\"] == 'positive')) ]\n",
    "cg_fp_df = cg_df[((cg_df[\"actual\"] == 'negative') & (cg_df[\"predicted\"] == 'positive')) ]\n",
    "wd_fn_df = wd_df[((wd_df[\"actual\"] == 'positive') & (wd_df[\"predicted\"] == 'negative')) ]\n",
    "cg_fn_df = cg_df[((cg_df[\"actual\"] == 'positive') & (cg_df[\"predicted\"] == 'negative')) ]"
   ]
  },
  {
   "cell_type": "code",
   "execution_count": 15,
   "metadata": {},
   "outputs": [],
   "source": [
    "wd_err_df = wd_df[((wd_df[\"actual\"] == 'negative') & (wd_df[\"predicted\"] == 'positive')) | ((wd_df[\"actual\"] == 'positive') & (wd_df[\"predicted\"] == 'negative')) ]\n",
    "cg_err_df = cg_df[((cg_df[\"actual\"] == 'positive') & (cg_df[\"predicted\"] == 'negative')) | ((cg_df[\"actual\"] == 'negative') & (cg_df[\"predicted\"] == 'positive')) ]"
   ]
  },
  {
   "cell_type": "code",
   "execution_count": 23,
   "metadata": {},
   "outputs": [],
   "source": [
    "wd_err_df[[\"concept\", \"entity\", \"actual\", \"predicted\"]].to_csv('wd_err.csv', index=False)\n",
    "cg_err_df[[\"concept\", \"entity\", \"actual\", \"predicted\"]].to_csv('cg_err.csv', index=False)"
   ]
  },
  {
   "cell_type": "code",
   "execution_count": 24,
   "metadata": {},
   "outputs": [],
   "source": [
    "wd_annotated_df = pd.read_csv('wd_err_annotated.csv')\n",
    "cg_annotated_df = pd.read_csv('cg_err_annotated.csv')"
   ]
  },
  {
   "cell_type": "code",
   "execution_count": 26,
   "metadata": {},
   "outputs": [],
   "source": [
    "wd_hvkg_cm = pycm.ConfusionMatrix(wd_annotated_df[\"actual\"].tolist(), wd_annotated_df[\"human\"].tolist(), digit=2, classes=[ 'positive', 'negative' ])\n",
    "wd_hvllm_cm = pycm.ConfusionMatrix(wd_annotated_df[\"predicted\"].tolist(), wd_annotated_df[\"human\"].tolist(), digit=2, classes=[ 'positive', 'negative' ])\n",
    "cg_hvkg_cm = pycm.ConfusionMatrix(cg_annotated_df[\"actual\"].tolist(), cg_annotated_df[\"human\"].tolist(), digit=2, classes=[ 'positive', 'negative' ])\n",
    "cg_hvllm_cm = pycm.ConfusionMatrix(cg_annotated_df[\"predicted\"].tolist(), cg_annotated_df[\"human\"].tolist(), digit=2, classes=[ 'positive', 'negative' ])"
   ]
  },
  {
   "cell_type": "code",
   "execution_count": 37,
   "metadata": {},
   "outputs": [
    {
     "data": {
      "text/html": [
       "<div>\n",
       "<style scoped>\n",
       "    .dataframe tbody tr th:only-of-type {\n",
       "        vertical-align: middle;\n",
       "    }\n",
       "\n",
       "    .dataframe tbody tr th {\n",
       "        vertical-align: top;\n",
       "    }\n",
       "\n",
       "    .dataframe thead th {\n",
       "        text-align: right;\n",
       "    }\n",
       "</style>\n",
       "<table border=\"1\" class=\"dataframe\">\n",
       "  <thead>\n",
       "    <tr style=\"text-align: right;\">\n",
       "      <th></th>\n",
       "      <th>kg</th>\n",
       "      <th>FP</th>\n",
       "      <th>FN</th>\n",
       "      <th>k_human-kg</th>\n",
       "      <th>k_human-llm</th>\n",
       "    </tr>\n",
       "  </thead>\n",
       "  <tbody>\n",
       "    <tr>\n",
       "      <th>0</th>\n",
       "      <td>Wikidata</td>\n",
       "      <td>46</td>\n",
       "      <td>90</td>\n",
       "      <td>0.242658</td>\n",
       "      <td>-0.241515</td>\n",
       "    </tr>\n",
       "    <tr>\n",
       "      <th>1</th>\n",
       "      <td>CaLiGraph</td>\n",
       "      <td>27</td>\n",
       "      <td>50</td>\n",
       "      <td>-0.295206</td>\n",
       "      <td>0.197691</td>\n",
       "    </tr>\n",
       "  </tbody>\n",
       "</table>\n",
       "</div>"
      ],
      "text/plain": [
       "          kg  FP  FN  k_human-kg  k_human-llm\n",
       "0   Wikidata  46  90    0.242658    -0.241515\n",
       "1  CaLiGraph  27  50   -0.295206     0.197691"
      ]
     },
     "execution_count": 37,
     "metadata": {},
     "output_type": "execute_result"
    }
   ],
   "source": [
    "analysis = [\n",
    "    { \"kg\": \"Wikidata\", \"FP\": len(wd_fp_df), \"FN\": len(wd_fn_df), \"k_human-kg\": wd_hvkg_cm.Kappa, \"k_human-llm\": wd_hvllm_cm.Kappa },\n",
    "    { \"kg\": \"CaLiGraph\",  \"FP\": len(cg_fp_df), \"FN\": len(cg_fn_df), \"k_human-kg\": cg_hvkg_cm.Kappa, \"k_human-llm\": cg_hvllm_cm.Kappa }\n",
    "]\n",
    "analysis_df = pd.DataFrame.from_records(analysis)\n",
    "analysis_df"
   ]
  }
 ],
 "metadata": {
  "kernelspec": {
   "display_name": "env",
   "language": "python",
   "name": "python3"
  },
  "language_info": {
   "codemirror_mode": {
    "name": "ipython",
    "version": 3
   },
   "file_extension": ".py",
   "mimetype": "text/x-python",
   "name": "python",
   "nbconvert_exporter": "python",
   "pygments_lexer": "ipython3",
   "version": "3.11.4"
  }
 },
 "nbformat": 4,
 "nbformat_minor": 2
}
