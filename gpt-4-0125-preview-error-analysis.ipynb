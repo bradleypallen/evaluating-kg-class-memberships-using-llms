{
 "cells": [
  {
   "cell_type": "code",
   "execution_count": 1,
   "metadata": {},
   "outputs": [],
   "source": [
    "import pycm, pandas as pd"
   ]
  },
  {
   "cell_type": "code",
   "execution_count": 2,
   "metadata": {},
   "outputs": [],
   "source": [
    "wd_df = pd.read_csv('error-analysis/wd_err_annotated.csv')\n",
    "cg_df = pd.read_csv('error-analysis/cg_err_annotated.csv')\n",
    "all_df = pd.concat([wd_df, cg_df])"
   ]
  },
  {
   "cell_type": "code",
   "execution_count": 3,
   "metadata": {},
   "outputs": [],
   "source": [
    "wd_fp_df = wd_df[((wd_df[\"actual\"] == 'negative') & (wd_df[\"predicted\"] == 'positive')) ]\n",
    "cg_fp_df = cg_df[((cg_df[\"actual\"] == 'negative') & (cg_df[\"predicted\"] == 'positive')) ]\n",
    "wd_fn_df = wd_df[((wd_df[\"actual\"] == 'positive') & (wd_df[\"predicted\"] == 'negative')) ]\n",
    "cg_fn_df = cg_df[((cg_df[\"actual\"] == 'positive') & (cg_df[\"predicted\"] == 'negative')) ]"
   ]
  },
  {
   "cell_type": "code",
   "execution_count": 4,
   "metadata": {},
   "outputs": [],
   "source": [
    "wd_hvkg_cm = pycm.ConfusionMatrix(wd_df[\"actual\"].tolist(), wd_df[\"human\"].tolist(), digit=2, classes=[ 'positive', 'negative' ])\n",
    "wd_hvllm_cm = pycm.ConfusionMatrix(wd_df[\"predicted\"].tolist(), wd_df[\"human\"].tolist(), digit=2, classes=[ 'positive', 'negative' ])\n",
    "cg_hvkg_cm = pycm.ConfusionMatrix(cg_df[\"actual\"].tolist(), cg_df[\"human\"].tolist(), digit=2, classes=[ 'positive', 'negative' ])\n",
    "cg_hvllm_cm = pycm.ConfusionMatrix(cg_df[\"predicted\"].tolist(), cg_df[\"human\"].tolist(), digit=2, classes=[ 'positive', 'negative' ])"
   ]
  },
  {
   "cell_type": "code",
   "execution_count": 5,
   "metadata": {},
   "outputs": [
    {
     "data": {
      "text/html": [
       "<div>\n",
       "<style scoped>\n",
       "    .dataframe tbody tr th:only-of-type {\n",
       "        vertical-align: middle;\n",
       "    }\n",
       "\n",
       "    .dataframe tbody tr th {\n",
       "        vertical-align: top;\n",
       "    }\n",
       "\n",
       "    .dataframe thead th {\n",
       "        text-align: right;\n",
       "    }\n",
       "</style>\n",
       "<table border=\"1\" class=\"dataframe\">\n",
       "  <thead>\n",
       "    <tr style=\"text-align: right;\">\n",
       "      <th></th>\n",
       "      <th>kg</th>\n",
       "      <th>N</th>\n",
       "      <th>FP</th>\n",
       "      <th>FN</th>\n",
       "      <th>human-kg kappa</th>\n",
       "      <th>human-llm kappa</th>\n",
       "      <th>missing data</th>\n",
       "      <th>missing relation</th>\n",
       "      <th>incorrect relation</th>\n",
       "      <th>incorrect reasoning</th>\n",
       "    </tr>\n",
       "  </thead>\n",
       "  <tbody>\n",
       "    <tr>\n",
       "      <th>0</th>\n",
       "      <td>Wikidata</td>\n",
       "      <td>136</td>\n",
       "      <td>46</td>\n",
       "      <td>90</td>\n",
       "      <td>0.235294</td>\n",
       "      <td>-0.235294</td>\n",
       "      <td>34 (25.0%)</td>\n",
       "      <td>15 (11.0%)</td>\n",
       "      <td>33 (24.3%)</td>\n",
       "      <td>54 (39.7%)</td>\n",
       "    </tr>\n",
       "    <tr>\n",
       "      <th>1</th>\n",
       "      <td>CaLiGraph</td>\n",
       "      <td>77</td>\n",
       "      <td>27</td>\n",
       "      <td>50</td>\n",
       "      <td>-0.295206</td>\n",
       "      <td>0.197691</td>\n",
       "      <td>28 (36.4%)</td>\n",
       "      <td>19 (24.7%)</td>\n",
       "      <td>20 (26.0%)</td>\n",
       "      <td>10 (13.0%)</td>\n",
       "    </tr>\n",
       "    <tr>\n",
       "      <th>2</th>\n",
       "      <td>TOTAL</td>\n",
       "      <td>213</td>\n",
       "      <td>73</td>\n",
       "      <td>140</td>\n",
       "      <td></td>\n",
       "      <td></td>\n",
       "      <td>62 (29.1%)</td>\n",
       "      <td>34 (16.0%)</td>\n",
       "      <td>53 (24.9%)</td>\n",
       "      <td>64 (30.0%)</td>\n",
       "    </tr>\n",
       "  </tbody>\n",
       "</table>\n",
       "</div>"
      ],
      "text/plain": [
       "          kg    N  FP   FN human-kg kappa human-llm kappa missing data  \\\n",
       "0   Wikidata  136  46   90       0.235294       -0.235294   34 (25.0%)   \n",
       "1  CaLiGraph   77  27   50      -0.295206        0.197691   28 (36.4%)   \n",
       "2      TOTAL  213  73  140                                  62 (29.1%)   \n",
       "\n",
       "  missing relation incorrect relation incorrect reasoning  \n",
       "0       15 (11.0%)         33 (24.3%)          54 (39.7%)  \n",
       "1       19 (24.7%)         20 (26.0%)          10 (13.0%)  \n",
       "2       34 (16.0%)         53 (24.9%)          64 (30.0%)  "
      ]
     },
     "execution_count": 5,
     "metadata": {},
     "output_type": "execute_result"
    }
   ],
   "source": [
    "analysis = [\n",
    "    { \n",
    "        \"kg\": \"Wikidata\", \n",
    "        \"N\": len(wd_fp_df) + len(wd_fn_df),\n",
    "        \"FP\": len(wd_fp_df), \n",
    "        \"FN\": len(wd_fn_df), \n",
    "        \"human-kg kappa\": wd_hvkg_cm.Kappa, \n",
    "        \"human-llm kappa\": wd_hvllm_cm.Kappa,\n",
    "        \"missing data\": f'{wd_df[\"missing data\"].sum()} ({float(wd_df[\"missing data\"].sum())/float(len(wd_df)):.1%})',\n",
    "        \"missing relation\": f'{wd_df[\"missing relation\"].sum()} ({float(wd_df[\"missing relation\"].sum())/float(len(wd_df)):.1%})',\n",
    "        \"incorrect relation\": f'{wd_df[\"incorrect relation\"].sum()} ({float(wd_df[\"incorrect relation\"].sum())/float(len(wd_df)):.1%})',\n",
    "        \"incorrect reasoning\": f'{wd_df[\"incorrect reasoning\"].sum()} ({float(wd_df[\"incorrect reasoning\"].sum())/float(len(wd_df)):.1%})',\n",
    "    },\n",
    "    { \n",
    "        \"kg\": \"CaLiGraph\",  \n",
    "        \"N\": len(cg_fp_df) + len(cg_fn_df),\n",
    "        \"FP\": len(cg_fp_df), \n",
    "        \"FN\": len(cg_fn_df), \n",
    "        \"human-kg kappa\": cg_hvkg_cm.Kappa, \n",
    "        \"human-llm kappa\": cg_hvllm_cm.Kappa,\n",
    "        \"missing data\": f'{cg_df[\"missing data\"].sum()} ({float(cg_df[\"missing data\"].sum())/float(len(cg_df)):.1%})',\n",
    "        \"missing relation\": f'{cg_df[\"missing relation\"].sum()} ({float(cg_df[\"missing relation\"].sum())/float(len(cg_df)):.1%})',\n",
    "        \"incorrect relation\": f'{cg_df[\"incorrect relation\"].sum()} ({float(cg_df[\"incorrect relation\"].sum())/float(len(cg_df)):.1%})',\n",
    "        \"incorrect reasoning\": f'{cg_df[\"incorrect reasoning\"].sum()} ({float(cg_df[\"incorrect reasoning\"].sum())/float(len(cg_df)):.1%})',\n",
    "    },\n",
    "    { \n",
    "        \"kg\": \"TOTAL\",  \n",
    "        \"N\": len(wd_fp_df) + len(wd_fn_df) + len(cg_fp_df) + len(cg_fn_df),\n",
    "        \"FP\": len(wd_fp_df) + len(cg_fp_df), \n",
    "        \"FN\": len(wd_fn_df) + len(cg_fn_df), \n",
    "        \"human-kg kappa\": \"\", \n",
    "        \"human-llm kappa\": \"\",\n",
    "        \"missing data\": f'{all_df[\"missing data\"].sum()} ({float(all_df[\"missing data\"].sum())/float(len(all_df)):.1%})',\n",
    "        \"missing relation\": f'{all_df[\"missing relation\"].sum()} ({float(all_df[\"missing relation\"].sum())/float(len(all_df)):.1%})',\n",
    "        \"incorrect relation\": f'{all_df[\"incorrect relation\"].sum()} ({float(all_df[\"incorrect relation\"].sum())/float(len(all_df)):.1%})',\n",
    "        \"incorrect reasoning\": f'{all_df[\"incorrect reasoning\"].sum()} ({float(all_df[\"incorrect reasoning\"].sum())/float(len(all_df)):.1%})',\n",
    "    },\n",
    "]\n",
    "analysis_df = pd.DataFrame.from_records(analysis)\n",
    "analysis_df"
   ]
  }
 ],
 "metadata": {
  "kernelspec": {
   "display_name": "env",
   "language": "python",
   "name": "python3"
  },
  "language_info": {
   "codemirror_mode": {
    "name": "ipython",
    "version": 3
   },
   "file_extension": ".py",
   "mimetype": "text/x-python",
   "name": "python",
   "nbconvert_exporter": "python",
   "pygments_lexer": "ipython3",
   "version": "3.11.4"
  }
 },
 "nbformat": 4,
 "nbformat_minor": 2
}
